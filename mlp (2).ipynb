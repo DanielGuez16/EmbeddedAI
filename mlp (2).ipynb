{
 "cells": [
  {
   "cell_type": "code",
   "execution_count": 10,
   "metadata": {},
   "outputs": [
    {
     "data": {
      "text/plain": [
       "'2.10.0'"
      ]
     },
     "execution_count": 10,
     "metadata": {},
     "output_type": "execute_result"
    }
   ],
   "source": [
    "import numpy as np\n",
    "import serial\n",
    "import pandas as pd\n",
    "import matplotlib.pyplot as plt\n",
    "import tensorflow as tf\n",
    "from tensorflow import keras\n",
    "from tensorflow.keras import layers, models\n",
    "\n",
    "tf.__version__"
   ]
  },
  {
   "cell_type": "code",
   "execution_count": 11,
   "metadata": {},
   "outputs": [
    {
     "name": "stdout",
     "output_type": "stream",
     "text": [
      "X_train_full shape from MIT-BIH: (5000, 181)\n",
      "X_text shape from MIT-BIH: (5000, 181)\n"
     ]
    }
   ],
   "source": [
    "# load extracted dataset from MIT-BIH dataset Arrhythmia database (only N, A, V, R, L)\n",
    "#data = tf.keras.datasets.fashion_mnist\n",
    "\n",
    "X_train_full = np.load('Data/X.npy')\n",
    "y_train_full = np.load('Data/y.npy')\n",
    "X_test = np.load('Data/X_val.npy')\n",
    "y_test = np.load('Data/y_val.npy')\n",
    "\n",
    "# remove distance between two consecutive peaks\n",
    "X_train_full = np.array(X_train_full[:,:-2])\n",
    "X_test = np.array(X_test[:,:-2])\n",
    "\n",
    "print(\"X_train_full shape from MIT-BIH:\",X_train_full.shape)\n",
    "print(\"X_text shape from MIT-BIH:\",X_test.shape)\n",
    "\n",
    "# save data for reuse...\n",
    "np.save('X_train_full.npy', X_train_full)\n",
    "np.save('X_test.npy', X_test)\n",
    "np.save('y_train_full.npy', y_train_full)\n",
    "np.save('y_test_arrythmia_classes.npy', y_test)\n",
    "\n"
   ]
  },
  {
   "cell_type": "code",
   "execution_count": 12,
   "metadata": {},
   "outputs": [
    {
     "name": "stdout",
     "output_type": "stream",
     "text": [
      "Class names for numbers: {'A': 0, 'V': 1, 'N': 2, 'L': 3, 'R': 4}\n",
      "y_train shape: (5000,)\n",
      "y_train shape with number: (5000,)\n"
     ]
    }
   ],
   "source": [
    "# transform y_train class characters in number !\n",
    "class_names = {'A':'Atrial premature contraction (A)','V':'Premature venticular contraction (V)','N':'Normal beat (N)','L':'Left bundle branch block (L)','R':'Right bundle branch block beat (R)'}\n",
    "mapping_to_numbers = {}\n",
    "y_train_full_number = np.zeros((len(y_train_full)))\n",
    "for i, raw_label in enumerate(y_train_full):\n",
    "    if raw_label not in mapping_to_numbers:\n",
    "        mapping_to_numbers[raw_label] = len(mapping_to_numbers)\n",
    "    y_train_full_number[i] = mapping_to_numbers[raw_label]\n",
    "# [0. 1. 2. 3. 1. 2.]\n",
    "print(\"Class names for numbers:\", mapping_to_numbers)\n",
    "# could be {'A': 0, 'V': 1, 'N': 2, 'L': 3, 'R': 4}\n",
    "y_test_number = np.zeros((len(y_test)))\n",
    "for i in range(len(y_test)):\n",
    "    y_test_number[i] = mapping_to_numbers[y_test[i]]\n",
    "\n",
    "print(\"y_train shape:\", y_train_full.shape)\n",
    "print(\"y_train shape with number:\", y_train_full_number.shape)\n",
    "\n",
    "np.save('y_test.npy', y_test_number)"
   ]
  },
  {
   "cell_type": "code",
   "execution_count": 13,
   "metadata": {},
   "outputs": [
    {
     "name": "stdout",
     "output_type": "stream",
     "text": [
      "Taille de X_train: (2500, 181)\n",
      "Taille de X_valid: (2500, 181)\n",
      "Model: \"sequential_2\"\n",
      "_________________________________________________________________\n",
      " Layer (type)                Output Shape              Param #   \n",
      "=================================================================\n",
      " flatten_2 (Flatten)         (None, 181)               0         \n",
      "                                                                 \n",
      " dense_5 (Dense)             (None, 90)                16380     \n",
      "                                                                 \n",
      " dense_6 (Dense)             (None, 30)                2730      \n",
      "                                                                 \n",
      " dense_7 (Dense)             (None, 5)                 155       \n",
      "                                                                 \n",
      "=================================================================\n",
      "Total params: 19,265\n",
      "Trainable params: 19,265\n",
      "Non-trainable params: 0\n",
      "_________________________________________________________________\n"
     ]
    }
   ],
   "source": [
    "# TBD: Normalize data ???\n",
    "# X_train_full = X_train_full / 255.0\n",
    "# X_test  = X_test / 255.0\n",
    "# Faire la moyenne du Dataset\n",
    "        \n",
    "# Split training dataset in two dataset: the validation and training sets\n",
    "X_valid, X_train = X_train_full[:2500], X_train_full[2500:]\n",
    "y_valid, y_train = y_train_full_number[:2500], y_train_full_number[2500:]\n",
    "\n",
    "print(f'Taille de X_train: {X_train.shape}')\n",
    "print(f'Taille de X_valid: {X_valid.shape}')\n",
    "\n",
    "# Specify the model's architecture\n",
    "\n",
    "model = tf.keras.models.Sequential([\n",
    "    tf.keras.layers.Flatten(input_shape = [len(X_train[0]),1]),\n",
    "     \n",
    "    tf.keras.layers.Dense(90, activation='relu'), # tanh activation function which is the same of the publication\n",
    "    tf.keras.layers.Dense(30, activation='tanh'), # tanh activation function which is the same of the publication\n",
    "    tf.keras.layers.Dense(5, activation='softmax'), #sigmoid\n",
    "])\n",
    "\n",
    "\n",
    "# Specify the loss function, optimizer, metrics\n",
    "model.compile(\n",
    "    loss = tf.keras.losses.SparseCategoricalCrossentropy(),\n",
    "    optimizer = tf.keras.optimizers.Adam(learning_rate=0.011),\n",
    "    metrics = [tf.keras.metrics.SparseCategoricalAccuracy()]\n",
    ")\n",
    "\n",
    "# Train the model\n",
    "history = model.fit(\n",
    "    X_train, y_train, epochs=15,\n",
    "    validation_data = (X_valid, y_valid),\n",
    "    verbose=0\n",
    ")\n",
    "\n",
    "model.summary()"
   ]
  },
  {
   "cell_type": "code",
   "execution_count": 14,
   "metadata": {},
   "outputs": [
    {
     "data": {
      "image/png": "[encoded data removed]",
      "text/plain": [
       "<Figure size 640x480 with 1 Axes>"
      ]
     },
     "metadata": {},
     "output_type": "display_data"
    }
   ],
   "source": [
    "# display results\n",
    "pd.DataFrame(history.history).plot()\n",
    "plt.xlabel(\"epoch\")\n",
    "plt.legend(bbox_to_anchor=(1.05, 1), loc=2)\n",
    "plt.show()"
   ]
  },
  {
   "cell_type": "code",
   "execution_count": 15,
   "metadata": {},
   "outputs": [
    {
     "name": "stdout",
     "output_type": "stream",
     "text": [
      "157/157 [==============================] - 0s 2ms/step - loss: 0.2852 - sparse_categorical_accuracy: 0.9032\n"
     ]
    }
   ],
   "source": [
    "# Precision du modèle\n",
    "loss, acc = model.evaluate(X_test, y_test_number)"
   ]
  },
  {
   "cell_type": "code",
   "execution_count": 16,
   "metadata": {},
   "outputs": [
    {
     "name": "stdout",
     "output_type": "stream",
     "text": [
      "INFO:tensorflow:Assets written to: C:\\Users\\grego\\AppData\\Local\\Temp\\tmpdz417n3e\\assets\n"
     ]
    },
    {
     "name": "stderr",
     "output_type": "stream",
     "text": [
      "INFO:tensorflow:Assets written to: C:\\Users\\grego\\AppData\\Local\\Temp\\tmpdz417n3e\\assets\n"
     ]
    }
   ],
   "source": [
    "# save model \n",
    "model.save(\"mlp.keras\")\n",
    "keras_model = tf.keras.models.load_model('mlp.keras')\n",
    "converter = tf.lite.TFLiteConverter.from_keras_model(keras_model)\n",
    "tflite_model = converter.convert()\n",
    "with open('converted_model.tflite', 'wb') as f:     \n",
    "  f.write(tflite_model)\n",
    "    "
   ]
  },
  {
   "cell_type": "code",
   "execution_count": 17,
   "metadata": {},
   "outputs": [
    {
     "ename": "SerialException",
     "evalue": "could not open port 'COM5': FileNotFoundError(2, 'Le fichier spécifié est introuvable.', None, 2)",
     "output_type": "error",
     "traceback": [
      "\u001b[1;31m---------------------------------------------------------------------------\u001b[0m",
      "\u001b[1;31mSerialException\u001b[0m                           Traceback (most recent call last)",
      "Cell \u001b[1;32mIn[17], line 88\u001b[0m\n\u001b[0;32m     85\u001b[0m X_test \u001b[38;5;241m=\u001b[39m np\u001b[38;5;241m.\u001b[39mload(\u001b[38;5;124m\"\u001b[39m\u001b[38;5;124m./Data/X_test.npy\u001b[39m\u001b[38;5;124m\"\u001b[39m)\n\u001b[0;32m     86\u001b[0m Y_test \u001b[38;5;241m=\u001b[39m np\u001b[38;5;241m.\u001b[39mload(\u001b[38;5;124m\"\u001b[39m\u001b[38;5;124m./Data/y_test_STM.npy\u001b[39m\u001b[38;5;124m\"\u001b[39m)\n\u001b[1;32m---> 88\u001b[0m \u001b[38;5;28;01mwith\u001b[39;00m \u001b[43mserial\u001b[49m\u001b[38;5;241;43m.\u001b[39;49m\u001b[43mSerial\u001b[49m\u001b[43m(\u001b[49m\u001b[43mPORT\u001b[49m\u001b[43m,\u001b[49m\u001b[43m \u001b[49m\u001b[38;5;241;43m115200\u001b[39;49m\u001b[43m,\u001b[49m\u001b[43m \u001b[49m\u001b[43mtimeout\u001b[49m\u001b[38;5;241;43m=\u001b[39;49m\u001b[38;5;241;43m1\u001b[39;49m\u001b[43m)\u001b[49m \u001b[38;5;28;01mas\u001b[39;00m ser:\n\u001b[0;32m     89\u001b[0m     \u001b[38;5;28mprint\u001b[39m(\u001b[38;5;124m\"\u001b[39m\u001b[38;5;124mSynchronising...\u001b[39m\u001b[38;5;124m\"\u001b[39m)\n\u001b[0;32m     90\u001b[0m     synchronise_UART(ser)\n",
      "File \u001b[1;32m~\\anaconda3\\lib\\site-packages\\serial\\serialwin32.py:33\u001b[0m, in \u001b[0;36mSerial.__init__\u001b[1;34m(self, *args, **kwargs)\u001b[0m\n\u001b[0;32m     31\u001b[0m \u001b[38;5;28mself\u001b[39m\u001b[38;5;241m.\u001b[39m_overlapped_read \u001b[38;5;241m=\u001b[39m \u001b[38;5;28;01mNone\u001b[39;00m\n\u001b[0;32m     32\u001b[0m \u001b[38;5;28mself\u001b[39m\u001b[38;5;241m.\u001b[39m_overlapped_write \u001b[38;5;241m=\u001b[39m \u001b[38;5;28;01mNone\u001b[39;00m\n\u001b[1;32m---> 33\u001b[0m \u001b[38;5;28msuper\u001b[39m(Serial, \u001b[38;5;28mself\u001b[39m)\u001b[38;5;241m.\u001b[39m\u001b[38;5;21m__init__\u001b[39m(\u001b[38;5;241m*\u001b[39margs, \u001b[38;5;241m*\u001b[39m\u001b[38;5;241m*\u001b[39mkwargs)\n",
      "File \u001b[1;32m~\\anaconda3\\lib\\site-packages\\serial\\serialutil.py:244\u001b[0m, in \u001b[0;36mSerialBase.__init__\u001b[1;34m(self, port, baudrate, bytesize, parity, stopbits, timeout, xonxoff, rtscts, write_timeout, dsrdtr, inter_byte_timeout, exclusive, **kwargs)\u001b[0m\n\u001b[0;32m    241\u001b[0m     \u001b[38;5;28;01mraise\u001b[39;00m \u001b[38;5;167;01mValueError\u001b[39;00m(\u001b[38;5;124m'\u001b[39m\u001b[38;5;124munexpected keyword arguments: \u001b[39m\u001b[38;5;132;01m{!r}\u001b[39;00m\u001b[38;5;124m'\u001b[39m\u001b[38;5;241m.\u001b[39mformat(kwargs))\n\u001b[0;32m    243\u001b[0m \u001b[38;5;28;01mif\u001b[39;00m port \u001b[38;5;129;01mis\u001b[39;00m \u001b[38;5;129;01mnot\u001b[39;00m \u001b[38;5;28;01mNone\u001b[39;00m:\n\u001b[1;32m--> 244\u001b[0m     \u001b[38;5;28;43mself\u001b[39;49m\u001b[38;5;241;43m.\u001b[39;49m\u001b[43mopen\u001b[49m\u001b[43m(\u001b[49m\u001b[43m)\u001b[49m\n",
      "File \u001b[1;32m~\\anaconda3\\lib\\site-packages\\serial\\serialwin32.py:64\u001b[0m, in \u001b[0;36mSerial.open\u001b[1;34m(self)\u001b[0m\n\u001b[0;32m     62\u001b[0m \u001b[38;5;28;01mif\u001b[39;00m \u001b[38;5;28mself\u001b[39m\u001b[38;5;241m.\u001b[39m_port_handle \u001b[38;5;241m==\u001b[39m win32\u001b[38;5;241m.\u001b[39mINVALID_HANDLE_VALUE:\n\u001b[0;32m     63\u001b[0m     \u001b[38;5;28mself\u001b[39m\u001b[38;5;241m.\u001b[39m_port_handle \u001b[38;5;241m=\u001b[39m \u001b[38;5;28;01mNone\u001b[39;00m    \u001b[38;5;66;03m# 'cause __del__ is called anyway\u001b[39;00m\n\u001b[1;32m---> 64\u001b[0m     \u001b[38;5;28;01mraise\u001b[39;00m SerialException(\u001b[38;5;124m\"\u001b[39m\u001b[38;5;124mcould not open port \u001b[39m\u001b[38;5;132;01m{!r}\u001b[39;00m\u001b[38;5;124m: \u001b[39m\u001b[38;5;132;01m{!r}\u001b[39;00m\u001b[38;5;124m\"\u001b[39m\u001b[38;5;241m.\u001b[39mformat(\u001b[38;5;28mself\u001b[39m\u001b[38;5;241m.\u001b[39mportstr, ctypes\u001b[38;5;241m.\u001b[39mWinError()))\n\u001b[0;32m     66\u001b[0m \u001b[38;5;28;01mtry\u001b[39;00m:\n\u001b[0;32m     67\u001b[0m     \u001b[38;5;28mself\u001b[39m\u001b[38;5;241m.\u001b[39m_overlapped_read \u001b[38;5;241m=\u001b[39m win32\u001b[38;5;241m.\u001b[39mOVERLAPPED()\n",
      "\u001b[1;31mSerialException\u001b[0m: could not open port 'COM5': FileNotFoundError(2, 'Le fichier spécifié est introuvable.', None, 2)"
     ]
    }
   ],
   "source": [
    "import serial\n",
    "import numpy as np\n",
    "\n",
    "PORT = \"COM5\"\n",
    "\n",
    "\n",
    "def synchronise_UART(serial_port):\n",
    "    \"\"\"\n",
    "    Synchronizes the UART communication by sending a byte and waiting for a response.\n",
    "\n",
    "    Args:\n",
    "        serial_port (serial.Serial): The serial port object to use for communication.\n",
    "\n",
    "    Returns:\n",
    "        None\n",
    "    \"\"\"\n",
    "    while (1):\n",
    "        serial_port.write(b\"\\xAB\")\n",
    "        ret = serial_port.read(1)\n",
    "        #print(f\"Received {ret}\")  # Ajout du print\n",
    "        if (ret == b\"\\xCD\"):\n",
    "            serial_port.read(1)\n",
    "            break\n",
    "\n",
    "\n",
    "def send_inputs_to_STM32(inputs, serial_port):\n",
    "    \"\"\"\n",
    "    Sends a numpy array of inputs to the STM32 microcontroller via a serial port.\n",
    "\n",
    "    Args:\n",
    "        inputs (numpy.ndarray): The inputs to send to the STM32.\n",
    "        serial_port (serial.Serial): The serial port to use for communication.\n",
    "\n",
    "    Returns:\n",
    "        None\n",
    "    \"\"\"\n",
    "    inputs = inputs.astype(np.float32)\n",
    "    buffer = b\"\"\n",
    "    for x in inputs:\n",
    "        buffer += x.tobytes()\n",
    "    serial_port.write(buffer)\n",
    "\n",
    "\n",
    "def read_output_from_STM32(serial_port):\n",
    "    \"\"\"\n",
    "    Reads 10 bytes from the given serial port and returns a list of float values obtained by dividing each byte by 255.\n",
    "\n",
    "    Args:\n",
    "    serial_port: A serial port object.\n",
    "\n",
    "    Returns:\n",
    "    A list of float values obtained by dividing each byte by 255.\n",
    "    \"\"\"\n",
    "    output = serial_port.read(5)\n",
    "\n",
    "    float_values = [int(out)/255 for out in output]\n",
    "    return float_values\n",
    "\n",
    "\n",
    "def evaluate_model_on_STM32(iterations, serial_port):\n",
    "    \"\"\"\n",
    "    Evaluates the accuracy of a machine learning model on an STM32 device.\n",
    "\n",
    "    Args:\n",
    "        iterations (int): The number of iterations to run the evaluation for.\n",
    "        serial_port (Serial): The serial port object used to communicate with the STM32 device.\n",
    "\n",
    "    Returns:\n",
    "        float: The accuracy of the model, as a percentage.\n",
    "    \"\"\"\n",
    "    accuracy = 0\n",
    "    for i in range(iterations):\n",
    "        print(f\"----- Iteration {i+1} -----\")\n",
    "        send_inputs_to_STM32(X_test[i], serial_port)\n",
    "        output = read_output_from_STM32(serial_port)\n",
    "        if (np.argmax(output) == np.argmax(Y_test[i])):\n",
    "          accuracy += 1 / iterations\n",
    "        print(f\"   Expected output: {Y_test[i]}\")\n",
    "        print(f\"   Received output: {output}\")\n",
    "        print(f\"----------------------- Accuracy: {accuracy:.2f}\\n\")\n",
    "    return accuracy\n",
    "\n",
    "\n",
    "if __name__ == '__main__':\n",
    "    X_test = np.load(\"./Data/X_test.npy\")\n",
    "    Y_test = np.load(\"./Data/y_test_STM.npy\")\n",
    "\n",
    "    with serial.Serial(PORT, 115200, timeout=1) as ser:\n",
    "        print(\"Synchronising...\")\n",
    "        synchronise_UART(ser)\n",
    "        print(\"Synchronised\")\n",
    "\n",
    "        print(\"Evaluating model on STM32...\")\n",
    "        error = evaluate_model_on_STM32(100, ser)"
   ]
  },
  {
   "cell_type": "code",
   "execution_count": null,
   "metadata": {},
   "outputs": [],
   "source": [
    "with serial.Serial(PORT, 115200, timeout=5) as ser:\n",
    "    ser.write(b\"\\xAB\")\n",
    "    response = ser.read(2)  # Lire 2 octets pour tester\n",
    "    print(f\"Received from STM32: {response}\")\n"
   ]
  },
  {
   "cell_type": "code",
   "execution_count": null,
   "metadata": {},
   "outputs": [],
   "source": []
  },
  {
   "cell_type": "code",
   "execution_count": null,
   "metadata": {},
   "outputs": [],
   "source": []
  }
 ],
 "metadata": {
  "kernelspec": {
   "display_name": "Python 3 (ipykernel)",
   "language": "python",
   "name": "python3"
  },
  "language_info": {
   "codemirror_mode": {
    "name": "ipython",
    "version": 3
   },
   "file_extension": ".py",
   "mimetype": "text/x-python",
   "name": "python",
   "nbconvert_exporter": "python",
   "pygments_lexer": "ipython3",
   "version": "3.10.13"
  }
 },
 "nbformat": 4,
 "nbformat_minor": 4
}
